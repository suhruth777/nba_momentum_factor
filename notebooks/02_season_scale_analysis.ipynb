{
  "cells": [
    {
      "cell_type": "markdown",
      "metadata": {},
      "source": [
        "# Season-Scale Momentum Analysis\n",
        "\n",
        "Build a game-level dataset across a season, quantify decisive lead changes and late-momentum alignment, and evaluate predictive lift."
      ]
    },
    {
      "cell_type": "code",
      "execution_count": 1,
      "id": "f5ded206",
      "metadata": {},
      "outputs": [
        {
          "name": "stdout",
          "output_type": "stream",
          "text": [
            "Project root: /Users/suhruth/Desktop/nba_momentum_factor\n"
          ]
        }
      ],
      "source": [
        "# Bootstrap project root for imports\n",
        "import sys, os, pathlib\n",
        "PROJECT_ROOT = os.path.abspath(os.path.join(os.getcwd(), \"..\"))\n",
        "if PROJECT_ROOT not in sys.path:\n",
        "    sys.path.insert(0, PROJECT_ROOT)\n",
        "print(\"Project root:\", PROJECT_ROOT)"
      ]
    },
    {
      "cell_type": "code",
      "execution_count": 2,
      "id": "03592c95",
      "metadata": {},
      "outputs": [],
      "source": [
        "from scripts.momentum_utils import get_season_game_ids, build_season_dataset\n",
        "import pandas as pd, numpy as np\n",
        "from pathlib import Path\n",
        "SEASON = \"2023-24\"\n",
        "SEASON_TYPE = \"Regular Season\"\n",
        "DATA_DIR = Path(\"../data\"); DATA_DIR.mkdir(parents=True, exist_ok=True)"
      ]
    },
    {
      "cell_type": "markdown",
      "id": "950a363d",
      "metadata": {},
      "source": [
        "## Step 6: Season Dataset Assembly"
      ]
    },
    {
      "cell_type": "code",
      "execution_count": 3,
      "id": "f4f2fc4c",
      "metadata": {},
      "outputs": [
        {
          "data": {
            "text/plain": [
              "(1230, ['0022300061', '0022300062', '0022300063', '0022300065', '0022300067'])"
            ]
          },
          "execution_count": 3,
          "metadata": {},
          "output_type": "execute_result"
        }
      ],
      "source": [
        "game_ids = get_season_game_ids(SEASON, SEASON_TYPE)\n",
        "len(game_ids), game_ids[:5]"
      ]
    },
    {
      "cell_type": "code",
      "execution_count": 4,
      "id": "27702cd1",
      "metadata": {},
      "outputs": [
        {
          "name": "stdout",
          "output_type": "stream",
          "text": [
            "Processed 25/200 games\n",
            "Processed 50/200 games\n",
            "Processed 75/200 games\n",
            "Processed 100/200 games\n",
            "Processed 125/200 games\n",
            "Processed 150/200 games\n",
            "Processed 175/200 games\n",
            "Processed 200/200 games\n",
            "Saved season dataset → ../data/season_202324_momentum_sample.csv | rows = 200\n"
          ]
        },
        {
          "data": {
            "text/html": [
              "<div>\n",
              "<style scoped>\n",
              "    .dataframe tbody tr th:only-of-type {\n",
              "        vertical-align: middle;\n",
              "    }\n",
              "\n",
              "    .dataframe tbody tr th {\n",
              "        vertical-align: top;\n",
              "    }\n",
              "\n",
              "    .dataframe thead th {\n",
              "        text-align: right;\n",
              "    }\n",
              "</style>\n",
              "<table border=\"1\" class=\"dataframe\">\n",
              "  <thead>\n",
              "    <tr style=\"text-align: right;\">\n",
              "      <th></th>\n",
              "      <th>game_id</th>\n",
              "      <th>home_win</th>\n",
              "      <th>final_margin</th>\n",
              "      <th>ot_game</th>\n",
              "      <th>diff_halftime</th>\n",
              "      <th>diff_q4start</th>\n",
              "      <th>diff_at_2min</th>\n",
              "      <th>momentum_l2_mean</th>\n",
              "      <th>max_run_points</th>\n",
              "      <th>avg_run_points</th>\n",
              "      <th>stability_invvar</th>\n",
              "      <th>last_lead_change_time</th>\n",
              "      <th>decisive_last_lead_change</th>\n",
              "    </tr>\n",
              "  </thead>\n",
              "  <tbody>\n",
              "    <tr>\n",
              "      <th>0</th>\n",
              "      <td>0022300061</td>\n",
              "      <td>0</td>\n",
              "      <td>12.0</td>\n",
              "      <td>0</td>\n",
              "      <td>-9.0</td>\n",
              "      <td>-7.0</td>\n",
              "      <td>-12.0</td>\n",
              "      <td>-12.980000</td>\n",
              "      <td>13.0</td>\n",
              "      <td>2.947368</td>\n",
              "      <td>0.042136</td>\n",
              "      <td>186.0</td>\n",
              "      <td>True</td>\n",
              "    </tr>\n",
              "    <tr>\n",
              "      <th>1</th>\n",
              "      <td>0022300062</td>\n",
              "      <td>1</td>\n",
              "      <td>4.0</td>\n",
              "      <td>0</td>\n",
              "      <td>15.0</td>\n",
              "      <td>-6.0</td>\n",
              "      <td>1.0</td>\n",
              "      <td>1.925000</td>\n",
              "      <td>11.0</td>\n",
              "      <td>2.957746</td>\n",
              "      <td>0.031197</td>\n",
              "      <td>2589.0</td>\n",
              "      <td>True</td>\n",
              "    </tr>\n",
              "    <tr>\n",
              "      <th>2</th>\n",
              "      <td>0022300063</td>\n",
              "      <td>0</td>\n",
              "      <td>6.0</td>\n",
              "      <td>0</td>\n",
              "      <td>1.0</td>\n",
              "      <td>-5.0</td>\n",
              "      <td>-4.0</td>\n",
              "      <td>-3.916667</td>\n",
              "      <td>7.0</td>\n",
              "      <td>2.461538</td>\n",
              "      <td>0.046531</td>\n",
              "      <td>2621.0</td>\n",
              "      <td>True</td>\n",
              "    </tr>\n",
              "    <tr>\n",
              "      <th>3</th>\n",
              "      <td>0022300065</td>\n",
              "      <td>1</td>\n",
              "      <td>4.0</td>\n",
              "      <td>0</td>\n",
              "      <td>5.0</td>\n",
              "      <td>9.0</td>\n",
              "      <td>0.0</td>\n",
              "      <td>0.012500</td>\n",
              "      <td>8.0</td>\n",
              "      <td>2.413793</td>\n",
              "      <td>0.049982</td>\n",
              "      <td>2791.0</td>\n",
              "      <td>True</td>\n",
              "    </tr>\n",
              "    <tr>\n",
              "      <th>4</th>\n",
              "      <td>0022300067</td>\n",
              "      <td>1</td>\n",
              "      <td>1.0</td>\n",
              "      <td>0</td>\n",
              "      <td>0.0</td>\n",
              "      <td>3.0</td>\n",
              "      <td>0.0</td>\n",
              "      <td>-2.983333</td>\n",
              "      <td>10.0</td>\n",
              "      <td>2.986667</td>\n",
              "      <td>0.050603</td>\n",
              "      <td>2868.0</td>\n",
              "      <td>True</td>\n",
              "    </tr>\n",
              "  </tbody>\n",
              "</table>\n",
              "</div>"
            ],
            "text/plain": [
              "      game_id  home_win  final_margin  ot_game  diff_halftime  diff_q4start  \\\n",
              "0  0022300061         0          12.0        0           -9.0          -7.0   \n",
              "1  0022300062         1           4.0        0           15.0          -6.0   \n",
              "2  0022300063         0           6.0        0            1.0          -5.0   \n",
              "3  0022300065         1           4.0        0            5.0           9.0   \n",
              "4  0022300067         1           1.0        0            0.0           3.0   \n",
              "\n",
              "   diff_at_2min  momentum_l2_mean  max_run_points  avg_run_points  \\\n",
              "0         -12.0        -12.980000            13.0        2.947368   \n",
              "1           1.0          1.925000            11.0        2.957746   \n",
              "2          -4.0         -3.916667             7.0        2.461538   \n",
              "3           0.0          0.012500             8.0        2.413793   \n",
              "4           0.0         -2.983333            10.0        2.986667   \n",
              "\n",
              "   stability_invvar  last_lead_change_time  decisive_last_lead_change  \n",
              "0          0.042136                  186.0                       True  \n",
              "1          0.031197                 2589.0                       True  \n",
              "2          0.046531                 2621.0                       True  \n",
              "3          0.049982                 2791.0                       True  \n",
              "4          0.050603                 2868.0                       True  "
            ]
          },
          "execution_count": 4,
          "metadata": {},
          "output_type": "execute_result"
        }
      ],
      "source": [
        "season_df = build_season_dataset(game_ids, sample_size=200, sleep_s=0.7)\n",
        "SEASON_PATH = DATA_DIR / f\"season_{SEASON.replace('-', '')}_momentum_sample.csv\"\n",
        "season_df.to_csv(SEASON_PATH, index=False)\n",
        "print(\"Saved season dataset →\", SEASON_PATH, \"| rows =\", len(season_df))\n",
        "season_df.head()"
      ]
    },
    {
      "cell_type": "markdown",
      "id": "af55e2ba",
      "metadata": {},
      "source": [
        "### Step 6.4 — Export for Tableau\n",
        "Export a 1-row-per-game table with helper columns used by the dashboard."
      ]
    },
    {
      "cell_type": "code",
      "execution_count": 8,
      "id": "7da864e3",
      "metadata": {},
      "outputs": [
        {
          "name": "stdout",
          "output_type": "stream",
          "text": [
            "Saved → ../data/tableau_momentum_export.csv | rows = 200\n"
          ]
        },
        {
          "data": {
            "text/html": [
              "<div>\n",
              "<style scoped>\n",
              "    .dataframe tbody tr th:only-of-type {\n",
              "        vertical-align: middle;\n",
              "    }\n",
              "\n",
              "    .dataframe tbody tr th {\n",
              "        vertical-align: top;\n",
              "    }\n",
              "\n",
              "    .dataframe thead th {\n",
              "        text-align: right;\n",
              "    }\n",
              "</style>\n",
              "<table border=\"1\" class=\"dataframe\">\n",
              "  <thead>\n",
              "    <tr style=\"text-align: right;\">\n",
              "      <th></th>\n",
              "      <th>game_id</th>\n",
              "      <th>home_win</th>\n",
              "      <th>final_margin</th>\n",
              "      <th>ot_game</th>\n",
              "      <th>last_lead_change_time</th>\n",
              "      <th>decisive_last_lead_change</th>\n",
              "      <th>diff_q4start</th>\n",
              "      <th>diff_at_2min</th>\n",
              "      <th>momentum_l2_mean</th>\n",
              "      <th>max_run_points</th>\n",
              "      <th>stability_invvar</th>\n",
              "      <th>decided_before_5min</th>\n",
              "      <th>late_momentum_sign</th>\n",
              "      <th>winner_sign</th>\n",
              "      <th>near_tie_flag</th>\n",
              "    </tr>\n",
              "  </thead>\n",
              "  <tbody>\n",
              "    <tr>\n",
              "      <th>0</th>\n",
              "      <td>0022300061</td>\n",
              "      <td>0</td>\n",
              "      <td>12.0</td>\n",
              "      <td>0</td>\n",
              "      <td>186.0</td>\n",
              "      <td>True</td>\n",
              "      <td>-7.0</td>\n",
              "      <td>-12.0</td>\n",
              "      <td>-12.980000</td>\n",
              "      <td>13.0</td>\n",
              "      <td>0.042136</td>\n",
              "      <td>1</td>\n",
              "      <td>-1.0</td>\n",
              "      <td>-1</td>\n",
              "      <td>0</td>\n",
              "    </tr>\n",
              "    <tr>\n",
              "      <th>1</th>\n",
              "      <td>0022300062</td>\n",
              "      <td>1</td>\n",
              "      <td>4.0</td>\n",
              "      <td>0</td>\n",
              "      <td>2589.0</td>\n",
              "      <td>True</td>\n",
              "      <td>-6.0</td>\n",
              "      <td>1.0</td>\n",
              "      <td>1.925000</td>\n",
              "      <td>11.0</td>\n",
              "      <td>0.031197</td>\n",
              "      <td>0</td>\n",
              "      <td>1.0</td>\n",
              "      <td>1</td>\n",
              "      <td>1</td>\n",
              "    </tr>\n",
              "    <tr>\n",
              "      <th>2</th>\n",
              "      <td>0022300063</td>\n",
              "      <td>0</td>\n",
              "      <td>6.0</td>\n",
              "      <td>0</td>\n",
              "      <td>2621.0</td>\n",
              "      <td>True</td>\n",
              "      <td>-5.0</td>\n",
              "      <td>-4.0</td>\n",
              "      <td>-3.916667</td>\n",
              "      <td>7.0</td>\n",
              "      <td>0.046531</td>\n",
              "      <td>0</td>\n",
              "      <td>-1.0</td>\n",
              "      <td>-1</td>\n",
              "      <td>0</td>\n",
              "    </tr>\n",
              "    <tr>\n",
              "      <th>3</th>\n",
              "      <td>0022300065</td>\n",
              "      <td>1</td>\n",
              "      <td>4.0</td>\n",
              "      <td>0</td>\n",
              "      <td>2791.0</td>\n",
              "      <td>True</td>\n",
              "      <td>9.0</td>\n",
              "      <td>0.0</td>\n",
              "      <td>0.012500</td>\n",
              "      <td>8.0</td>\n",
              "      <td>0.049982</td>\n",
              "      <td>0</td>\n",
              "      <td>1.0</td>\n",
              "      <td>1</td>\n",
              "      <td>1</td>\n",
              "    </tr>\n",
              "    <tr>\n",
              "      <th>4</th>\n",
              "      <td>0022300067</td>\n",
              "      <td>1</td>\n",
              "      <td>1.0</td>\n",
              "      <td>0</td>\n",
              "      <td>2868.0</td>\n",
              "      <td>True</td>\n",
              "      <td>3.0</td>\n",
              "      <td>0.0</td>\n",
              "      <td>-2.983333</td>\n",
              "      <td>10.0</td>\n",
              "      <td>0.050603</td>\n",
              "      <td>0</td>\n",
              "      <td>-1.0</td>\n",
              "      <td>1</td>\n",
              "      <td>1</td>\n",
              "    </tr>\n",
              "  </tbody>\n",
              "</table>\n",
              "</div>"
            ],
            "text/plain": [
              "      game_id  home_win  final_margin  ot_game  last_lead_change_time  \\\n",
              "0  0022300061         0          12.0        0                  186.0   \n",
              "1  0022300062         1           4.0        0                 2589.0   \n",
              "2  0022300063         0           6.0        0                 2621.0   \n",
              "3  0022300065         1           4.0        0                 2791.0   \n",
              "4  0022300067         1           1.0        0                 2868.0   \n",
              "\n",
              "   decisive_last_lead_change  diff_q4start  diff_at_2min  momentum_l2_mean  \\\n",
              "0                       True          -7.0         -12.0        -12.980000   \n",
              "1                       True          -6.0           1.0          1.925000   \n",
              "2                       True          -5.0          -4.0         -3.916667   \n",
              "3                       True           9.0           0.0          0.012500   \n",
              "4                       True           3.0           0.0         -2.983333   \n",
              "\n",
              "   max_run_points  stability_invvar  decided_before_5min  late_momentum_sign  \\\n",
              "0            13.0          0.042136                    1                -1.0   \n",
              "1            11.0          0.031197                    0                 1.0   \n",
              "2             7.0          0.046531                    0                -1.0   \n",
              "3             8.0          0.049982                    0                 1.0   \n",
              "4            10.0          0.050603                    0                -1.0   \n",
              "\n",
              "   winner_sign  near_tie_flag  \n",
              "0           -1              0  \n",
              "1            1              1  \n",
              "2           -1              0  \n",
              "3            1              1  \n",
              "4            1              1  "
            ]
          },
          "execution_count": 8,
          "metadata": {},
          "output_type": "execute_result"
        }
      ],
      "source": [
        "# Exports the exact schema the Tableau dashboard expects\n",
        "import numpy as np\n",
        "import pandas as pd\n",
        "\n",
        "out = season_df.copy()\n",
        "\n",
        "# Helper columns for Tableau\n",
        "out[\"decided_before_5min\"] = (out[\"last_lead_change_time\"] <= 2580).astype(int)  # 5:00 in Q4\n",
        "out[\"late_momentum_sign\"] = np.sign(out[\"momentum_l2_mean\"]).replace(0, np.nan)\n",
        "out[\"winner_sign\"] = np.where(out[\"home_win\"] == 1, 1, -1).astype(int)\n",
        "out[\"near_tie_flag\"] = (out[\"diff_at_2min\"].abs() <= 2).astype(int)\n",
        "\n",
        "cols = [\n",
        "    \"game_id\",\"home_win\",\"final_margin\",\"ot_game\",\n",
        "    \"last_lead_change_time\",\"decisive_last_lead_change\",\n",
        "    \"diff_q4start\",\"diff_at_2min\",\"momentum_l2_mean\",\n",
        "    \"max_run_points\",\"stability_invvar\",\n",
        "    \"decided_before_5min\",\"late_momentum_sign\",\"winner_sign\",\"near_tie_flag\"\n",
        "]\n",
        "out = out[cols]\n",
        "\n",
        "path = \"../data/tableau_momentum_export.csv\"   # note: ../data because notebooks/ is your CWD\n",
        "out.to_csv(path, index=False)\n",
        "print(\"Saved →\", path, \"| rows =\", len(out))\n",
        "out.head()"
      ]
    },
    {
      "cell_type": "markdown",
      "id": "79664606",
      "metadata": {},
      "source": [
        "## Step 7: Momentum Decisiveness & Alignment"
      ]
    },
    {
      "cell_type": "code",
      "execution_count": 9,
      "id": "ab5472e5",
      "metadata": {},
      "outputs": [
        {
          "name": "stdout",
          "output_type": "stream",
          "text": [
            "Share 'decided' by last lead change before 5:00: 0.745\n",
            "Share last lead change after 5:00: 0.255\n"
          ]
        }
      ],
      "source": [
        "Q4_END = 2880\n",
        "CUTOFF_5MIN = Q4_END - 300\n",
        "\n",
        "df_decisive = season_df.copy()\n",
        "df_decisive[\"last_flip_before_5min\"] = df_decisive[\"last_lead_change_time\"] <= CUTOFF_5MIN\n",
        "mask_known = df_decisive[\"decisive_last_lead_change\"].notna() & df_decisive[\"last_flip_before_5min\"].notna()\n",
        "subset = df_decisive[mask_known]\n",
        "rate_decisive = (subset[\"last_flip_before_5min\"] & subset[\"decisive_last_lead_change\"]).mean()\n",
        "rate_late_flips = (~subset[\"last_flip_before_5min\"]).mean()\n",
        "print(f\"Share 'decided' by last lead change before 5:00: {rate_decisive:.3f}\")\n",
        "print(f\"Share last lead change after 5:00: {rate_late_flips:.3f}\")"
      ]
    },
    {
      "cell_type": "code",
      "execution_count": 10,
      "id": "8e9c5e65",
      "metadata": {},
      "outputs": [
        {
          "name": "stdout",
          "output_type": "stream",
          "text": [
            "Alignment (final 2:00 momentum sign vs winner): 0.890\n",
            "Near-tie — win rate when late momentum favors home: 0.731\n",
            "Near-tie — win rate when late momentum favors away: 0.714\n"
          ]
        }
      ],
      "source": [
        "align_df = season_df.copy()\n",
        "align_df[\"late_momentum_sign\"] = np.sign(align_df[\"momentum_l2_mean\"].replace(0, np.nan))\n",
        "align_df[\"winner_sign\"] = np.where(align_df[\"home_win\"] == 1, 1, -1)\n",
        "align_df = align_df.dropna(subset=[\"late_momentum_sign\"])\n",
        "alignment_rate = (align_df[\"late_momentum_sign\"] == align_df[\"winner_sign\"]).mean()\n",
        "print(f\"Alignment (final 2:00 momentum sign vs winner): {alignment_rate:.3f}\")\n",
        "\n",
        "near_tie = season_df.copy()\n",
        "near_tie = near_tie[near_tie[\"diff_at_2min\"].abs() <= 2]\n",
        "near_tie = near_tie.assign(late_momentum_sign=np.sign(near_tie[\"momentum_l2_mean\"].replace(0, np.nan)))\n",
        "near_tie = near_tie.dropna(subset=[\"late_momentum_sign\"])\n",
        "win_rate_when_mom_home = (near_tie[near_tie[\"late_momentum_sign\"] > 0][\"home_win\"] == 1).mean()\n",
        "win_rate_when_mom_away = (near_tie[near_tie[\"late_momentum_sign\"] < 0][\"home_win\"] == 0).mean()\n",
        "print(f\"Near-tie — win rate when late momentum favors home: {win_rate_when_mom_home:.3f}\")\n",
        "print(f\"Near-tie — win rate when late momentum favors away: {win_rate_when_mom_away:.3f}\")"
      ]
    },
    {
      "cell_type": "markdown",
      "id": "d2352cce",
      "metadata": {},
      "source": [
        "## Step 8: Predictive Lift (Baseline vs +Momentum)"
      ]
    },
    {
      "cell_type": "code",
      "execution_count": 11,
      "id": "5bbf6946",
      "metadata": {},
      "outputs": [
        {
          "name": "stdout",
          "output_type": "stream",
          "text": [
            "AUC — Baseline: 0.950\n",
            "AUC — +Momentum: 0.958\n",
            "Δ AUC: +0.008\n"
          ]
        }
      ],
      "source": [
        "from sklearn.model_selection import train_test_split\n",
        "from sklearn.preprocessing import StandardScaler\n",
        "from sklearn.linear_model import LogisticRegression\n",
        "from sklearn.pipeline import Pipeline\n",
        "from sklearn.metrics import roc_auc_score\n",
        "\n",
        "model_df = season_df.copy()\n",
        "baseline_feats = [\"diff_q4start\", \"diff_at_2min\", \"ot_game\"]\n",
        "momentum_feats = [\"momentum_l2_mean\", \"max_run_points\", \"stability_invvar\"]\n",
        "use_cols = [\"home_win\"] + baseline_feats + momentum_feats\n",
        "model_df = model_df.dropna(subset=use_cols)\n",
        "\n",
        "X_base = model_df[baseline_feats]\n",
        "X_full = model_df[baseline_feats + momentum_feats]\n",
        "y = model_df[\"home_win\"].astype(int)\n",
        "\n",
        "Xb_train, Xb_test, y_train, y_test = train_test_split(X_base, y, test_size=0.25, random_state=42, stratify=y)\n",
        "Xf_train, Xf_test, _, _ = train_test_split(X_full, y, test_size=0.25, random_state=42, stratify=y)\n",
        "\n",
        "pipe = Pipeline([(\"scaler\", StandardScaler()), (\"clf\", LogisticRegression(max_iter=200))])\n",
        "\n",
        "pipe.fit(Xb_train, y_train)\n",
        "pred_base = pipe.predict_proba(Xb_test)[:,1]\n",
        "auc_base = roc_auc_score(y_test, pred_base)\n",
        "\n",
        "pipe.fit(Xf_train, y_train)\n",
        "pred_full = pipe.predict_proba(Xf_test)[:,1]\n",
        "auc_full = roc_auc_score(y_test, pred_full)\n",
        "\n",
        "print(f\"AUC — Baseline: {auc_base:.3f}\")\n",
        "print(f\"AUC — +Momentum: {auc_full:.3f}\")\n",
        "print(f\"Δ AUC: {auc_full - auc_base:+.3f}\")"
      ]
    }
  ],
  "metadata": {
    "kernelspec": {
      "display_name": "venv",
      "language": "python",
      "name": "python3"
    },
    "language_info": {
      "codemirror_mode": {
        "name": "ipython",
        "version": 3
      },
      "file_extension": ".py",
      "mimetype": "text/x-python",
      "name": "python",
      "nbconvert_exporter": "python",
      "pygments_lexer": "ipython3",
      "version": "3.12.7"
    }
  },
  "nbformat": 4,
  "nbformat_minor": 5
}
